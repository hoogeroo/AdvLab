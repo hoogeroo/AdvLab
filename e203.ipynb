{
  "cells": [
    {
      "metadata": {},
      "cell_type": "markdown",
      "source": "# Experiment 203: Basic Electrical Measurements\n\n#### Aim\n\nTo use a digital multimeter and oscilloscope to measure dc and ac voltage, dc and ac current, resistance, capacitance, time, frequency and phase. You may be unfamiliar with these instruments or the components measured. If so, don’t hesitate to ask a demonstrator for assistance.\n\n#### Ohm's law\nThe most important thing you need to know for this experiment is Ohm's law:\n\\begin{equation} V=IR\n\\end{equation}\nwhere $V$ is a voltage across a resistor, $I$ is the current going through that resistor, and $R$ is the resistance of that resistor.\n\n#### The voltage division theorem\n\n<p>Imagine you have a voltage source connected to two resistors in series, as illustrated in the figure below.\nThe voltage across the combination of resistors is the voltage of the source. But what is the voltage across each resistor? </p>\n\n![](https://advlabsvr.phy.auckland.ac.nz/pamphlets/figs/f26100.png)\n\n<p>Ohm's law will help. The current going through both resistors is the same, as current is a flow of electrons, and the flow of electrons is conserved. This current is equal to $I=V_s/(R_1+R_2)$.\nBut if we know what the resistance of $R_1$ is, and we know the current, we know what the voltage across that resistor is, namely $V_1=I R_1$. Likewise for $V_2$.</p>\n    \nThe net result is that \n\\begin{equation}\n\\frac{V_1}{V_2}=\\frac{R_1}{R_2}\n\\end{equation}\n\nand hence, as $V_1+V_2=V_s$,\n$$ V_1 = \\frac{R_1}{R_1+R_2} V_s $$\nThis is the voltage division theorem.\n\n#### Parallel resistors\n<p> Now imagine you have two resistors in parallel, as in the figure below. What would be the equivalent resistance of the two-resistor network? This will allow us to figure out how much current will run. </p>\n    \n![](https://advlabsvr.phy.auckland.ac.nz/pamphlets/figs/f26100b.png)\n\n<p> Again we call on Ohm's law. The voltage across both resistors is the same $V_s=I_1R_1=I_2R_2$. We also know that $I_1+I_2=I$. </p>\nNow let us fill this in to figure out what the resistance $R_T$ of the network is.\n\\begin{equation} R_T=\\frac{V_s}{I}=\\frac{V_s}{I_1+I_2}=\\frac{V_s}{\\frac{V_s}{R_1}+\\frac{V_s}{R_2}}=\\frac{1}{\\frac{1}{R_1}+\\frac{1}{R_2}}\n\\end{equation}</p>\n\n<p>This basic result will come in handy when interpreting the results in step 11.</p>\n\n<H4>The Digital Multimeter (DMM)</H4>\n<p>\nThe Fluke 77 Digital multimeter supplied measures ac and dc currents and voltages, and also resistance. This model by default is auto-ranging, that is, it adjusts its display to give the most accurate reading of the quantity measured, in 3 or 4 digits. The rotating selector switch selects the type of measurement. When not in use, always turn this to the left-most “off” position. The other switch positions, reading clockwise, are for measuring </p>\n<UL>\n<LI>AC voltage</LI>\n<LI>DC voltage</LI>\n<LI>higher sensitivity dc voltage (300 mV maximum)</LI>\n<LI>resistance</LI>\n<LI>circuit continuity (produces an audible signal if the resistance between the probes is <≈ 100$\\Omega$),</LI> \n<LI>ac current,</LI>\n<LI>dc current.</LI>\n</UL><p>\nFor voltage and resistance measurements, the probe leads must be plugged into the two right-hand sockets — black to bottom. For current measurements, the red lead is plugged into one of the two left-hand sockets.</p>\n<H1 style=\"color:rgb(255, 0, 0);\">Warning! Read this twice!</H1> \n<p style=\"color:rgb(255, 0, 0);\">Never connect the leads of a meter configured to measure current directly across the terminals of a DC power supply, as this may blow the meter fuse or even destroy the meter.</p>\n\n<H4>Resistance Measurements</H4>\n\n<p>All components used in this experiment are mounted on a circuit board, shown schematically in Figure 1.\n![Experimental set-up](https://advlabsvr.phy.auckland.ac.nz/pamphlets/figs/f26101.png)\n\n<OL>\n<LI>Use the digital multimeter (DMM) to measure each of the resistances Ra to Rd and R1 to R5 on the circuit board provided (see Figure 1). Record, in the code snipped below, the measured values together with their nominal values, determined from the colour code of each resistor.</LI></OL>"
    },
    {
      "metadata": {
        "trusted": false
      },
      "cell_type": "code",
      "source": "# We will be using python in the next bit\n# The Rns and Rnm are python \"lists\". \nRns=[1000,100,1e6,10e6] # Nominal values of the \"source\" resistors\nRnm=[270,680,1500,3900,1e6] # Nominal values of the \"load\" resistors\n# A valid list would be \nmylist=[\"Joe\",\"Blogs\", 15, 3e8, -5.34]\n# as list elements can be anything, just try out what you get with this:\notherlist=3*mylist\nprint(otherlist)",
      "execution_count": null,
      "outputs": []
    },
    {
      "metadata": {
        "trusted": true
      },
      "cell_type": "code",
      "source": "Ra=\nRb=\nRc=\nRd=\nR1=\nR2=\nR3=\nR4=\nR5=\nRs=[Ra,Rb,Rc,Rd] # Just making a list of the \"source\" resistors\nRm=[R1,R2,R3,R4,R5] # Same for the \"load\" resistors",
      "execution_count": null,
      "outputs": []
    },
    {
      "metadata": {},
      "cell_type": "markdown",
      "source": "<H4>D-C Voltage Source Measurements</H4>\n<p>\nThe Phillips PE 4818 power supply used has an adjustable voltage range of 0 – 35 V, set with the left-hand knob. Pull this knob to turn the power supply on. Current limiting is provided to help protect equipment in case of inadvertant short circuits. The current limit is set with the right-hand knob. For this experiment, it can be set fully clockwise, as we do not wish the power supply to interact with the measurements we make. The left (negative) and right (positive) terminals supply the output voltage. The centre (ground) terminal connects to the case and is not used in this experiment.</p>\n"
    },
    {
      "metadata": {},
      "cell_type": "markdown",
      "source": "<OL start=2><LI> Connect the DC voltage source to terminals e and g (+ to e and − to g). Disconnect the jumper lead S. Set the DMM to read dc volts and connect it across the supply output voltage. Adjust this voltage to read exactly 10.0 V on the DMM (the power supply display may read slightly differently).\nThe circuit to the left of S, between points e and g (the power supply) can be considered to be an ideal dc voltage source. This means that its voltage should remain absolutely constant regardless of the current drawn from it.\nFigure 2(a) shows how we will check this. The load resistor, RL, is shown as variable (indicated by the arrow) so that it can be changed to draw different currents from the supply, while we measure the voltage across it. In practice, we will use discrete values of RL, given by R1 to R5.\n![Fig2](https://advlabsvr.phy.auckland.ac.nz/pamphlets/figs/f26102.png)\n\nFor each value of load resistance from ∞ (open circuit) to 270 Ω, selected via S, measure the output voltage Vo, using the DMM. Using the resistance values measured earlier, calculate the current Io flowing in each case. Record and tabulate the corresponding values of Vo and Io.</LI></OL>"
    },
    {
      "metadata": {
        "collapsed": true,
        "trusted": false
      },
      "cell_type": "code",
      "source": "import numpy as np # importing numerical libraries\nimport matplotlib.pyplot as plt # importing plot routines\n\n# For plotting and calculations it is best to convert from a list to a numpy array\nRnm=np.array(Rnm)\n# Make a list of your measured values of Vo here\n\n# Convert to a numpy array\n\n# Calculate the currents I=V/R\n",
      "execution_count": null,
      "outputs": []
    },
    {
      "metadata": {},
      "cell_type": "markdown",
      "source": "<OL start=3><LI>Plot a graph of $V_o$ as a function of $I_o$. Does your graph confirm that the power supply is ideal?\nLaboratory power supplies are hopefully always “ideal” in this sense. However cells, batteries, “plug- packs” etc. are usually not, in that their terminal voltage decreases with increasing current. Their observed current-voltage characteristic can usually be modelled fairly accurately however by assuming them to be an ideal voltage source in series with an output resistance (the Thevenin equivalent circuit).<br>\nUse __plt.plot(x,y,'o-')__ <br>\n    </OL></LI>\n"
    },
    {
      "metadata": {
        "collapsed": true,
        "trusted": false
      },
      "cell_type": "code",
      "source": "# insert code here",
      "execution_count": null,
      "outputs": []
    },
    {
      "metadata": {},
      "cell_type": "markdown",
      "source": "<OL start=4><LI>Connect the voltage source between terminals $a$ and $g$ so that the circuit to the left of $S$ becomes a non-ideal voltage source, i.e. one having a finite internal resistance (= $R_a$). Repeat procedure (3) and record the values of the output current and voltage below.</LI></OL>"
    },
    {
      "metadata": {
        "collapsed": true,
        "trusted": false
      },
      "cell_type": "code",
      "source": "#insert code here",
      "execution_count": null,
      "outputs": []
    },
    {
      "metadata": {},
      "cell_type": "markdown",
      "source": "<OL start=5><LI> Using the same axes as for the earlier graph, plot $V_o$ as a function of $I_o$. Confirm that the graph you have just plotted is what you would expect, i.e., the current-voltage characteristic of a voltage source having an internal resistance of $R_a$ (Figure 2(b)). Your plot should be similar to the one shown as “real” in Figure 2(b). </OL></LI>"
    },
    {
      "metadata": {},
      "cell_type": "markdown",
      "source": "__Question:__ Why does the voltage decrease when the current increases?"
    },
    {
      "metadata": {
        "collapsed": true,
        "trusted": false
      },
      "cell_type": "code",
      "source": "# plot both your series on the same plot. ",
      "execution_count": null,
      "outputs": []
    },
    {
      "metadata": {},
      "cell_type": "markdown",
      "source": "6. A non-ideal, linear voltage source may be represented by either the Thevenin (voltage source) equivalent circuit of Figure 3(a) or the Norton (current source) equivalent circuit of Figure 3(b). The resistances are called internal resistances.\n![Fig3](https://advlabsvr.phy.auckland.ac.nz/pamphlets/figs/f26103.png)\nThe “single circle” symbol represents an ideal voltage source. An “overlapping double circle” symbol represents an ideal current source. An ideal current source adjusts its terminal voltage to supply the same current regardless of the impedance across its terminals. This is a less intuitive concept than an ideal voltage source, but is useful for describing the properties of components such as transistors. Both symbols must be accompanied by an arrow showing the assumed direction of positive current flow from the source.\nDetermine values for $V_T, R_T, I_N, {\\rm and\\ } R_N$ of the Thevenin and Norton sources that would best reproduce the data you plotted in Procedure (5). Note: The rules for transforming between equivalent voltage and current sources are:\n\n    - The value of the internal resistance is the same for both (that is, $R_T = R_N$ ).</LI>\n    - The values of the ideal voltage and ideal current sources are related by Ohm’s Law\n    (i.e $I_N =V_T/R_T$).\n"
    },
    {
      "metadata": {},
      "cell_type": "markdown",
      "source": "<H4>Measuring Instrument Loading Effects</H4>\n<OL start=7><LI>\nUp till now we have assumed that the DMM has no effect on the voltages it is used to measure. This will only be true if its terminal resistance is infinite, or alternatively, it draws no current from the circuit. However, all voltage measuring devices have a finite terminal impedance, although so far component values have been chosen to make the effect of the DMM imperceptible.\nThe equivalent circuit of a voltmeter is shown in Figure 4, inside the dashed box. RM is the internal resistance, and the circle symbol represents an ideal galvanometer, which has zero resistance. Thus, the resistance seen between the voltmeter terminals is just RM , and the voltage indicated by the meter is that developed across RM .\nWe use the DMM to measure its own terminal resistance RM , as follows (see Figure 4).\n</LI></OL>\n![Fig4](https://advlabsvr.phy.auckland.ac.nz/pamphlets/figs/f26104.png)"
    },
    {
      "metadata": {},
      "cell_type": "markdown",
      "source": "<OL start=8><LI>The voltmeter is connected between $g$ and $e$. The power supply (shown as a battery having a voltage $V_s$) is connected between $g$ and the left-hand end of resistors $R_c$ and $R_d$ in turn. Adjust its output voltage to a convenient value, say 10 volt, as shown. Assume that resistor $R_c$ is in the circuit. Then, by the voltage division theorem,\n\\begin{equation}\nV_M =V_s  \\frac{R_M}{R_M+R_c}\n\\end{equation}\nwhence\n\\begin{equation}\nR_M = R_c \\frac{V_M}{V_s-V_M}\n\\end{equation}\n Theory shows that the optimum value of $R_c$ (that giving the smallest percentage error in the estimate of $R_M$ ) is obtained when the series resistor ($R_c$ or $R_d$) is equal to $R_M$ , which gives $V_M = V_s/2$. You should find that one of the resistors specified approximately satisfies this condition. Calculate and note the value of $R_M$ .\n</LI></OL>"
    },
    {
      "metadata": {
        "collapsed": true,
        "trusted": false
      },
      "cell_type": "code",
      "source": "# insert code here",
      "execution_count": null,
      "outputs": []
    },
    {
      "metadata": {},
      "cell_type": "markdown",
      "source": "__Question:__ Does your observed value of the resistance of the DMM agree with what you expect? Why?"
    },
    {
      "metadata": {},
      "cell_type": "markdown",
      "source": "<OL start=9><LI>An oscilloscope can similarly be used to measure its own terminal (input) resistance $R_{in}$ in the same way. Replace the meter in Figure (4) with the oscilloscope.\nSet the oscilloscope trigger mode to “AUTO” so that a line-trace appears on the screen. Arrange for the $Y_1$ amplifier (Channel 1) to measure DC with a sensitivity of 2 V/Div and use the vertical displacement of the line-trace from the zero position to measure voltage. Repeat the measurements in procedure (8) to estimate the best value of the oscilloscope input resistance. Calculate and note this value.</LI><OL>"
    },
    {
      "metadata": {
        "collapsed": true,
        "trusted": false
      },
      "cell_type": "code",
      "source": "# insert code here",
      "execution_count": null,
      "outputs": []
    },
    {
      "metadata": {},
      "cell_type": "markdown",
      "source": "<OL start=10><LI> Set up the circuit of Figure 5 using resistors $R_c$ and $R_5$ and record the value of $V_o$ as measured by the DMM and then by the oscilloscope. \n    \n__Question:__ What is the reason for the different values obtained?\n![](https://advlabsvr.phy.auckland.ac.nz/pamphlets/figs/f26105.png)\n</LI></OL>"
    },
    {
      "metadata": {
        "collapsed": true,
        "trusted": false
      },
      "cell_type": "code",
      "source": "#insert code here",
      "execution_count": null,
      "outputs": []
    },
    {
      "metadata": {},
      "cell_type": "markdown",
      "source": "<OL start=11><LI>Calculate the value of $V_o$ \n\n<OL><LI>under open circuit conditions</LI>\n<LI>with the DMM connected</LI>\n<LI>with the oscilloscope connected.</LI></OL>\n\nUse your measured values of $R_M$ and $R_{in}$ in the calculations.\n\nCompare your measured and calculated values of $V_o$.\n"
    },
    {
      "metadata": {
        "collapsed": true,
        "trusted": false
      },
      "cell_type": "code",
      "source": "# insert code here",
      "execution_count": null,
      "outputs": []
    },
    {
      "metadata": {},
      "cell_type": "markdown",
      "source": "__Question:__ Do these agree? What makes you say they do (or do not) agree?"
    },
    {
      "metadata": {},
      "cell_type": "markdown",
      "source": "<H4>Superposition of AC and DC</H4>\n<OL start=12><LI>\nConstruct the circuit illustrated in Figure 6, using both the ac signal generator supplied and the dc power supply. \nConnect the oscilloscope to observe the voltage shown. \nMake the following initial settings where $Y_1$ denotes Channel 1 and $Y_2$ denotes Channel 2:\n\n<TABLE>\n<TR><TD>Oscilloscope $Y_1$ and $Y_2$ Amplifiers </TD> <TD>1V/Div </TD></TR>\n<TR><TD>AC-Gnd-DC Selector </TD><TD> DC </TD></TR>\n<TR><TD>Zero Trace Position </TD><TD>1 Div from lowest graticule line</TD></TR>\n<TR><TD>Oscilloscope Time Base</TD><TD>0.5ms/Div</TD></TR>\n<TR><TD>DC Power Supply</TD><TD>\n10V (set by DMM)</TD></TR>\n<TR><TD>Signal source</TD><TD>1V p-p triangular waveform at 1 kHz</TD></TR></TABLE>\n\n![](https://advlabsvr.phy.auckland.ac.nz/pamphlets/figs/f26106.png)\n\nObserve this voltage using the $Y_1$ trace. Attempt to measure the amplitude of both components with the sensitivity set at 1V/Div. Increase the sensitivity to 500mV/Div and observe the trace disappear off the top of the screen. Now switch to AC. To do this, press the \"CH1\" button. Go to \"Coupling\" and select \"AC\". Note that the dc component of the observed voltage is removed and the ac component may be measured quite easily by increasing the sensitivity to 10mV/Div. What is the AC amplitude? What is the DC offset? Does that agree with your expectations?"
    },
    {
      "metadata": {
        "collapsed": true,
        "trusted": false
      },
      "cell_type": "code",
      "source": "#insert code here",
      "execution_count": null,
      "outputs": []
    },
    {
      "metadata": {},
      "cell_type": "markdown",
      "source": "__Question:__ What did you expect and why? "
    },
    {
      "metadata": {},
      "cell_type": "markdown",
      "source": "#### Conclusion\nPlease tell us what you learned."
    }
  ],
  "metadata": {
    "anaconda-cloud": {},
    "kernelspec": {
      "name": "python3",
      "display_name": "Python 3",
      "language": "python"
    },
    "language_info": {
      "mimetype": "text/x-python",
      "nbconvert_exporter": "python",
      "name": "python",
      "file_extension": ".py",
      "version": "3.5.4",
      "pygments_lexer": "ipython3",
      "codemirror_mode": {
        "version": 3,
        "name": "ipython"
      }
    }
  },
  "nbformat": 4,
  "nbformat_minor": 1
}